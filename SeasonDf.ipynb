{
 "cells": [
  {
   "cell_type": "code",
   "execution_count": 2,
   "metadata": {},
   "outputs": [],
   "source": [
    "import requests\n",
    "from bs4 import BeautifulSoup\n",
    "import pandas as pd\n",
    "import numpy as np\n",
    "import json\n",
    "\n",
    "def costruisci_excel(anno_inizio):\n",
    "    matrice = []\n",
    "\n",
    "    def appendi(array, http, giornata):\n",
    "        re = requests.get(http)\n",
    "        soup = BeautifulSoup(re.text, \"html.parser\")\n",
    "        for link in soup.find_all(\"div\", attrs={\"class\": \"box-partita\"}):\n",
    "            vinta_a_tavolino = link.find(\"div\", attrs={\"class\": \"dcr\"})\n",
    "            risultato_sul_campo = link.find(\"span\", attrs={\"class\": \"note\"})\n",
    "            data = link.div.span.string.split(\" \")[0]\n",
    "            casa = link.find(\"div\", attrs={\"class\": \"col-xs-6 risultatosx\"})\n",
    "            ospite = link.find(\"div\", attrs={\"class\": \"col-xs-6 risultatodx\"})\n",
    "            squadra_casa = casa.h4.string.split(\" \")[-1]\n",
    "            squadra_ospite = ospite.h4.string.split(\" \")[-1]\n",
    "            if risultato_sul_campo is not None and risultato_sul_campo.string not in [\"Partita non disputata\", None]:\n",
    "                gol_casa, gol_ospite = risultato_sul_campo.string.split(\" \")[-1].split(\"-\")\n",
    "            elif vinta_a_tavolino is None:\n",
    "                gol_casa = casa.span.string\n",
    "                gol_ospite = ospite.span.string\n",
    "            else:\n",
    "                gol_casa, gol_ospite = \"-\", \"-\"\n",
    "            if (gol_casa, gol_ospite) != (\"-\", \"-\"):\n",
    "                        array.append([giornata, data, squadra_casa, squadra_ospite, gol_casa, gol_ospite])\n",
    "\n",
    "    for i in range(38):\n",
    "        giornata = i+1\n",
    "        appendi(matrice, f\"http://www.legaseriea.it/it/serie-a/calendario-e-risultati/20\"\n",
    "                         f\"{anno_inizio}-{anno_inizio + 1}/UNICO/UNI/{giornata}\", giornata)\n",
    "\n",
    "    dataframe = pd.DataFrame(np.array(matrice), columns=[\"Giornata\", \"Date\", \"HomeTeam\", \"AwayTeam\", \"FTHG\", \"FTAG\"])\n",
    "    path = f\"season/season-{anno_inizio}{anno_inizio + 1}_csv\"\n",
    "    dataframe.to_excel(f\"{path}.xlsx\", index=False)\n",
    "    return f\"{path}.xlsx\"\n",
    "    \n",
    "def leggi(anno_inizio, create=True):\n",
    "    path = f\"season/season-{anno_inizio}{anno_inizio + 1}_csv\"\n",
    "    if not create:\n",
    "        try:\n",
    "            return pd.read_excel(f\"{path}.xlsx\")\n",
    "        except:\n",
    "            print(f\"{path}.xlsx not exists\\ncreating it\")\n",
    "    return pd.read_excel(costruisci_excel(anno_inizio))"
   ]
  }
 ],
 "metadata": {
  "kernelspec": {
   "display_name": "Python 3 (ipykernel)",
   "language": "python",
   "name": "python3"
  },
  "language_info": {
   "codemirror_mode": {
    "name": "ipython",
    "version": 3
   },
   "file_extension": ".py",
   "mimetype": "text/x-python",
   "name": "python",
   "nbconvert_exporter": "python",
   "pygments_lexer": "ipython3",
   "version": "3.8.10"
  }
 },
 "nbformat": 4,
 "nbformat_minor": 4
}
